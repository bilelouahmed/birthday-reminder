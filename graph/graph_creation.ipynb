{
 "cells": [
  {
   "cell_type": "code",
   "execution_count": 4,
   "metadata": {},
   "outputs": [],
   "source": [
    "from neo4j import GraphDatabase\n",
    "from dotenv import load_dotenv\n",
    "import os\n",
    "import re\n",
    "\n",
    "load_dotenv()\n",
    "\n",
    "NEO4J_URI = os.getenv(\"NEO4J_URI\")\n",
    "NEO4J_USERNAME = os.getenv(\"NEO4J_USERNAME\")\n",
    "NEO4J_PASSWORD = os.getenv(\"NEO4J_PASSWORD\")"
   ]
  },
  {
   "cell_type": "code",
   "execution_count": 3,
   "metadata": {},
   "outputs": [],
   "source": [
    "class BirthdayImporter:\n",
    "    def __init__(self, uri, user, password):\n",
    "        self.driver = GraphDatabase.driver(uri, auth=(user, password))\n",
    "\n",
    "    def close(self):\n",
    "        self.driver.close()\n",
    "\n",
    "    def create_birthday_node(self, name, birthday):\n",
    "        if self._validate_birthday_format(birthday):\n",
    "            with self.driver.session() as session:\n",
    "                session.write_transaction(self._create_node, name, birthday)\n",
    "        else:\n",
    "            print(f\"Ignoring invalid birthday format for {name}: {birthday} (please use this format : 'DD-MM-YYYY' ignoring 0 at first position).\")\n",
    "\n",
    "    @staticmethod\n",
    "    def _validate_birthday_format(birthday):\n",
    "        pattern = re.compile(r'^\\d{1,2}-\\d{1,2}-\\d{4}$')\n",
    "        return bool(pattern.match(birthday))\n",
    "\n",
    "    @staticmethod\n",
    "    def _create_node(tx, name, birthday):\n",
    "        query = (\n",
    "            \"CREATE (p:Family {name: $name, birthday: $birthday}) RETURN p\"\n",
    "        )\n",
    "        return tx.run(query, name=name, birthday=birthday)\n",
    "\n",
    "def load_birthdays(file_path, uri, user, password):\n",
    "    importer = BirthdayImporter(uri, user, password)\n",
    "    try:\n",
    "        with open(file_path, 'r') as file:\n",
    "            for line in file:\n",
    "                name, birthday = line.strip().split(', ')\n",
    "                importer.create_birthday_node(name, birthday)\n",
    "    finally:\n",
    "        importer.close()"
   ]
  },
  {
   "cell_type": "code",
   "execution_count": null,
   "metadata": {},
   "outputs": [],
   "source": [
    "load_birthdays(\"birthdays.txt\", NEO4J_URI, NEO4J_USERNAME, NEO4J_PASSWORD)"
   ]
  }
 ],
 "metadata": {
  "kernelspec": {
   "display_name": "Python 3",
   "language": "python",
   "name": "python3"
  },
  "language_info": {
   "codemirror_mode": {
    "name": "ipython",
    "version": 3
   },
   "file_extension": ".py",
   "mimetype": "text/x-python",
   "name": "python",
   "nbconvert_exporter": "python",
   "pygments_lexer": "ipython3",
   "version": "3.11.8"
  }
 },
 "nbformat": 4,
 "nbformat_minor": 2
}
